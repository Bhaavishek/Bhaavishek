{
 "cells": [
  {
   "cell_type": "code",
   "execution_count": 1,
   "id": "211a48c6-e74c-4e59-b8a2-7fb67a96f15f",
   "metadata": {},
   "outputs": [],
   "source": [
    "from bs4 import BeautifulSoup\n",
    "import requests\n",
    "import smtplib\n",
    "import time\n",
    "import datetime\n",
    "import csv\n",
    "import pandas as pd"
   ]
  },
  {
   "cell_type": "code",
   "execution_count": 2,
   "id": "1261090d-20f0-4072-b9e7-e0b1d38ffdd7",
   "metadata": {},
   "outputs": [
    {
     "name": "stdout",
     "output_type": "stream",
     "text": [
      "\n",
      "\n",
      "\n",
      "\n",
      "\n",
      "                  $16.99\n",
      "                 \n",
      "\n",
      "\n",
      "                   $\n",
      "                  \n",
      "\n",
      "                   16\n",
      "                   \n",
      "                    .\n",
      "                   \n",
      "\n",
      "\n",
      "                   99\n",
      "                  \n",
      "\n",
      "\n",
      "\n",
      "\n",
      "\n",
      "\n",
      "\n",
      "\n",
      "\n",
      "\n",
      "\n",
      "\n",
      "\n",
      "\n",
      "\n",
      "\n",
      "                  Solid colors: 100% Cotton; Heather Grey: 90% Cotton, 10% Polyester; All Other Heathers: 50% Cotton, 50% Polyester\n",
      "                 \n",
      "\n",
      "\n",
      "\n",
      "                  Imported\n",
      "                 \n",
      "\n",
      "\n",
      "\n",
      "                  Pull On closure\n",
      "                 \n",
      "\n",
      "\n",
      "\n",
      "                  Machine Wash\n",
      "                 \n",
      "\n",
      "\n",
      "\n",
      "                  'Funny Got Data MIS Data Systems Business Analyst' is a funny pickup perfect for people interested in MIS and data systems who works in IT or data consulting! Any business analyst or consultant that works with big data will love it!\n",
      "                 \n",
      "\n",
      "\n",
      "\n",
      "                  Lightweight, Classic fit, Double-needle sleeve and bottom hem\n",
      "                 \n",
      "\n",
      "\n",
      "\n",
      "\n"
     ]
    }
   ],
   "source": [
    "#Connect to website\n",
    "\n",
    "URL = 'https://www.amazon.com/Funny-Data-Systems-Business-Analyst/dp/B07FNW9FGJ/ref=sr_1_1?crid=3229F1UYTSNS0&keywords=Funny+got+data+MIS+Data+Systems+Business+Analyst+t-shirt&qid=1668988885&sprefix=funny+got+data+mis+data+systems+business+analyst+t-shirt%2Caps%2C176&sr=8-1'\n",
    "headers = {\"User-Agent\": \"Mozilla/5.0 (Windows NT 10.0; Win64; x64) AppleWebKit/537.36 (KHTML, like Gecko) Chrome/105.0.0.0 Safari/537.36 OPR/91.0.4516.30\", \n",
    "           \"Accept-Encoding\": \"gzip, deflate\", \n",
    "           \"Accept\": \"text/html,application/xhtml+xml,application/xml;q=0.9,image/avif,image/webp,image/apng,*/*;q=0.8,application/signed-exchange;v=b3;q=0.9\",\"Upgrade-Insecure-Requests\": \"1\"}\n",
    "\n",
    "page= requests.get (URL, headers=headers)\n",
    "s1 = BeautifulSoup(page.content, \"html.parser\")\n",
    "\n",
    "#Better formating\n",
    "s2 = BeautifulSoup(s1.prettify(),\"html.parser\")\n",
    "\n",
    "# Selecting Title of the Product by vising amazon page and right click inspect element \n",
    "title = s2.find(id='productTitle').get_text()\n",
    "\n",
    "# Selecting Price of the Product by vising amazon page and right click inspect element \n",
    "price = s2.find(id='corePriceDisplay_desktop_feature_div').get_text()\n",
    "#price = s2.find(id='omnibusPrice_feature_div').get_text()\n",
    "\n",
    "rating = s2.find(id='feature-bullets').get_text()\n",
    "\n",
    "print(price)\n",
    "print(rating)\n",
    "\n"
   ]
  },
  {
   "cell_type": "code",
   "execution_count": 3,
   "id": "2cd1ba0f-e0fa-4932-9c67-73cb31d21109",
   "metadata": {},
   "outputs": [
    {
     "name": "stdout",
     "output_type": "stream",
     "text": [
      "16.99\n",
      "Funny Got Data MIS Data Systems Business Analyst T-Shirt\n"
     ]
    }
   ],
   "source": [
    "#remove whitespace in price and title\n",
    "p1 = price.strip()[1:6]\n",
    "title = title.strip()\n",
    "print(p1)\n",
    "print(title)\n"
   ]
  },
  {
   "cell_type": "code",
   "execution_count": 4,
   "id": "e8ce93cc-cdd5-480e-892b-1f843e268e8a",
   "metadata": {},
   "outputs": [
    {
     "name": "stdout",
     "output_type": "stream",
     "text": [
      "2022-11-20\n"
     ]
    }
   ],
   "source": [
    "today = datetime.date.today()\n",
    "print(today)"
   ]
  },
  {
   "cell_type": "code",
   "execution_count": 5,
   "id": "a51f1bee-4fcf-40a5-8eaa-d125c2d13208",
   "metadata": {},
   "outputs": [],
   "source": [
    "#creating headers in csv file\n",
    "\n",
    "header = ['Title','Price','Date']\n",
    "data = [title, p1,today]\n",
    "\n",
    "# create a CSV\n",
    "\n",
    "#with open('amzdata.csv','w',newline='', encoding='UTF8') as f:\n",
    "   # writer = csv.writer(f)\n",
    "   # writer.writerow(header)\n",
    "    # writer.writerow(data)\n",
    "\n"
   ]
  },
  {
   "cell_type": "code",
   "execution_count": 6,
   "id": "5ea92b4e-7656-432a-95d7-910b7ee01727",
   "metadata": {},
   "outputs": [
    {
     "name": "stdout",
     "output_type": "stream",
     "text": [
      "                                               Title  Price        Date\n",
      "0  Funny Got Data MIS Data Systems Business Analy...  16.99  2022-11-20\n"
     ]
    }
   ],
   "source": [
    "df = pd.read_csv(r'C:\\Users\\bhavi\\amzdata.csv')\n",
    "print(df)"
   ]
  },
  {
   "cell_type": "code",
   "execution_count": 7,
   "id": "8d460734-d3ec-4e4b-b48c-387e35aaff21",
   "metadata": {},
   "outputs": [],
   "source": [
    "#Appending data to a csv file\n",
    "\n",
    "def check_price() :\n",
    "    URL = 'https://www.amazon.com/Funny-Data-Systems-Business-Analyst/dp/B07FNW9FGJ/ref=sr_1_1?crid=3229F1UYTSNS0&keywords=Funny+got+data+MIS+Data+Systems+Business+Analyst+t-shirt&qid=1668988885&sprefix=funny+got+data+mis+data+systems+business+analyst+t-shirt%2Caps%2C176&sr=8-1'\n",
    "    headers = {\"User-Agent\": \"Mozilla/5.0 (Windows NT 10.0; Win64; x64) AppleWebKit/537.36 (KHTML, like Gecko) Chrome/105.0.0.0 Safari/537.36 OPR/91.0.4516.30\", \n",
    "           \"Accept-Encoding\": \"gzip, deflate\", \n",
    "           \"Accept\": \"text/html,application/xhtml+xml,application/xml;q=0.9,image/avif,image/webp,image/apng,*/*;q=0.8,application/signed-exchange;v=b3;q=0.9\",\"Upgrade-Insecure-Requests\": \"1\"}\n",
    "    page = requests.get(URL, headers = headers)\n",
    "    s1 = BeautifulSoup(page.content, \"html.parser\")\n",
    "    s2 = BeautifulSoup(s1.prettify(),\"html.parser\")\n",
    "    title = s2.find(id='productTitle').get_text()\n",
    "    price = s2.find(id='corePriceDisplay_desktop_feature_div').get_text()\n",
    "    title = title.strip()\n",
    "    p1 = price.strip()[1:]\n",
    "    today = datetime.date.today()\n",
    "    header = ['Title','Price','Date']\n",
    "    data = [title,p1,today]\n",
    "    \n",
    "    \n",
    "    with open('amzndata.csv','w', newline='',encoding='UTF8') as f:\n",
    "        writer = csv.writer(f)\n",
    "        writer.writerow(data)\n",
    "\n",
    "\n",
    "\n"
   ]
  },
  {
   "cell_type": "code",
   "execution_count": 8,
   "id": "c5557056-c966-4869-b174-f3dde7d20f0e",
   "metadata": {},
   "outputs": [],
   "source": [
    "#Apply counter to every 1 hour to add the price in the csv file\n",
    "\n",
    "#while(True):\n",
    "  #  check_price()\n",
    "  #  time.sleep(60)"
   ]
  },
  {
   "cell_type": "code",
   "execution_count": 9,
   "id": "47250465-8391-4368-96f6-103598281ae0",
   "metadata": {},
   "outputs": [
    {
     "name": "stdout",
     "output_type": "stream",
     "text": [
      "                                               Title  Price        Date\n",
      "0  Funny Got Data MIS Data Systems Business Analy...  16.99  2022-11-20\n"
     ]
    }
   ],
   "source": [
    "df = pd.read_csv(r'C:\\Users\\bhavi\\amzdata.csv')\n",
    "print(df)"
   ]
  },
  {
   "cell_type": "code",
   "execution_count": 10,
   "id": "797b5705-7173-4f07-95f1-d9c8f7584b6b",
   "metadata": {},
   "outputs": [],
   "source": [
    "def send_mail():\n",
    "    server = smtplib.SMTP_SSL('smtp.gmail.com',465)\n",
    "    server.ehlo()\n",
    "    \n",
    "    #server starttls()\n",
    "    server.ehlo()\n",
    "    server.login('malikv481@gmail.com','xxxxxxxxxxxxxxxxxx')\n",
    "    subject = 'This shirt is now available at below $14'\n",
    "    by = 'Bhavishek, Now this is the good time to buy the Shirt'\n",
    "    msg = f\"subject :{subject}\\n\\n\\{by}\"\n",
    "    server.sendmail('malikv481@gmail.com',msg)"
   ]
  },
  {
   "cell_type": "code",
   "execution_count": null,
   "id": "134de549-b855-47b2-bb42-3d148b266760",
   "metadata": {},
   "outputs": [],
   "source": []
  }
 ],
 "metadata": {
  "kernelspec": {
   "display_name": "Python 3 (ipykernel)",
   "language": "python",
   "name": "python3"
  },
  "language_info": {
   "codemirror_mode": {
    "name": "ipython",
    "version": 3
   },
   "file_extension": ".py",
   "mimetype": "text/x-python",
   "name": "python",
   "nbconvert_exporter": "python",
   "pygments_lexer": "ipython3",
   "version": "3.9.12"
  }
 },
 "nbformat": 4,
 "nbformat_minor": 5
}
